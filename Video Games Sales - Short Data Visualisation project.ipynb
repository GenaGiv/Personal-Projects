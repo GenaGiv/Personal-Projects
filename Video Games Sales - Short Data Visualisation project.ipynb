{
 "cells": [
  {
   "cell_type": "markdown",
   "id": "ba6f248c",
   "metadata": {},
   "source": [
    "# Video games sales - Data Visualisation project"
   ]
  },
  {
   "cell_type": "markdown",
   "id": "74d4b2a6",
   "metadata": {},
   "source": [
    "The data used for this project was extracted from Kaggle found through the following link:https://www.kaggle.com/datasets/gautamshah2002/video-game-crime-dropout-dataset?resource=download"
   ]
  },
  {
   "cell_type": "markdown",
   "id": "142f2337",
   "metadata": {},
   "source": [
    "## Used Packages"
   ]
  },
  {
   "cell_type": "code",
   "execution_count": 28,
   "id": "55c49a29",
   "metadata": {},
   "outputs": [],
   "source": [
    "import os\n",
    "import numpy as np\n",
    "from pandas import Series, DataFrame #import separately as commonly used \n",
    "import pandas as pd\n",
    "import matplotlib.pyplot as plt\n",
    "import random as rd\n",
    "import seaborn as sns\n",
    "\n",
    "from IPython.core.interactiveshell import InteractiveShell\n",
    "InteractiveShell.ast_node_interactivity = \"all\""
   ]
  },
  {
   "cell_type": "markdown",
   "id": "2769f662",
   "metadata": {},
   "source": [
    "## Import Dataset"
   ]
  },
  {
   "cell_type": "code",
   "execution_count": 2,
   "id": "55eb392b",
   "metadata": {},
   "outputs": [],
   "source": [
    "Data_Full = pd.read_csv(\"video_games_sales.csv\")"
   ]
  },
  {
   "cell_type": "markdown",
   "id": "2495dab8",
   "metadata": {},
   "source": [
    "## Data Exploration"
   ]
  },
  {
   "cell_type": "markdown",
   "id": "23d2b6e0",
   "metadata": {},
   "source": [
    "### Dataset Overview"
   ]
  },
  {
   "cell_type": "code",
   "execution_count": 3,
   "id": "aa6765b2",
   "metadata": {},
   "outputs": [
    {
     "data": {
      "text/html": [
       "<div>\n",
       "<style scoped>\n",
       "    .dataframe tbody tr th:only-of-type {\n",
       "        vertical-align: middle;\n",
       "    }\n",
       "\n",
       "    .dataframe tbody tr th {\n",
       "        vertical-align: top;\n",
       "    }\n",
       "\n",
       "    .dataframe thead th {\n",
       "        text-align: right;\n",
       "    }\n",
       "</style>\n",
       "<table border=\"1\" class=\"dataframe\">\n",
       "  <thead>\n",
       "    <tr style=\"text-align: right;\">\n",
       "      <th></th>\n",
       "      <th>Name</th>\n",
       "      <th>Platform</th>\n",
       "      <th>Year_of_Release</th>\n",
       "      <th>Genre</th>\n",
       "      <th>Publisher</th>\n",
       "      <th>NA_Sales</th>\n",
       "      <th>EU_Sales</th>\n",
       "      <th>JP_Sales</th>\n",
       "      <th>Other_Sales</th>\n",
       "      <th>Global_Sales</th>\n",
       "      <th>Critic_Score</th>\n",
       "      <th>Critic_Count</th>\n",
       "      <th>User_Score</th>\n",
       "      <th>User_Count</th>\n",
       "      <th>Developer</th>\n",
       "      <th>Rating</th>\n",
       "    </tr>\n",
       "  </thead>\n",
       "  <tbody>\n",
       "    <tr>\n",
       "      <th>0</th>\n",
       "      <td>Wii Sports</td>\n",
       "      <td>Wii</td>\n",
       "      <td>2006</td>\n",
       "      <td>Sports</td>\n",
       "      <td>Nintendo</td>\n",
       "      <td>41.36</td>\n",
       "      <td>28.96</td>\n",
       "      <td>3.77</td>\n",
       "      <td>8.45</td>\n",
       "      <td>82.53</td>\n",
       "      <td>76.0</td>\n",
       "      <td>51.0</td>\n",
       "      <td>8</td>\n",
       "      <td>322.0</td>\n",
       "      <td>Nintendo</td>\n",
       "      <td>E</td>\n",
       "    </tr>\n",
       "    <tr>\n",
       "      <th>1</th>\n",
       "      <td>Mario Kart Wii</td>\n",
       "      <td>Wii</td>\n",
       "      <td>2008</td>\n",
       "      <td>Racing</td>\n",
       "      <td>Nintendo</td>\n",
       "      <td>15.68</td>\n",
       "      <td>12.76</td>\n",
       "      <td>3.79</td>\n",
       "      <td>3.29</td>\n",
       "      <td>35.52</td>\n",
       "      <td>82.0</td>\n",
       "      <td>73.0</td>\n",
       "      <td>8.3</td>\n",
       "      <td>709.0</td>\n",
       "      <td>Nintendo</td>\n",
       "      <td>E</td>\n",
       "    </tr>\n",
       "    <tr>\n",
       "      <th>2</th>\n",
       "      <td>Wii Sports Resort</td>\n",
       "      <td>Wii</td>\n",
       "      <td>2009</td>\n",
       "      <td>Sports</td>\n",
       "      <td>Nintendo</td>\n",
       "      <td>15.61</td>\n",
       "      <td>10.93</td>\n",
       "      <td>3.28</td>\n",
       "      <td>2.95</td>\n",
       "      <td>32.77</td>\n",
       "      <td>80.0</td>\n",
       "      <td>73.0</td>\n",
       "      <td>8</td>\n",
       "      <td>192.0</td>\n",
       "      <td>Nintendo</td>\n",
       "      <td>E</td>\n",
       "    </tr>\n",
       "    <tr>\n",
       "      <th>3</th>\n",
       "      <td>Kinect Adventures!</td>\n",
       "      <td>X360</td>\n",
       "      <td>2010</td>\n",
       "      <td>Misc</td>\n",
       "      <td>Microsoft Game Studios</td>\n",
       "      <td>15.00</td>\n",
       "      <td>4.89</td>\n",
       "      <td>0.24</td>\n",
       "      <td>1.69</td>\n",
       "      <td>21.81</td>\n",
       "      <td>61.0</td>\n",
       "      <td>45.0</td>\n",
       "      <td>6.3</td>\n",
       "      <td>106.0</td>\n",
       "      <td>Good Science Studio</td>\n",
       "      <td>E</td>\n",
       "    </tr>\n",
       "    <tr>\n",
       "      <th>4</th>\n",
       "      <td>New Super Mario Bros. Wii</td>\n",
       "      <td>Wii</td>\n",
       "      <td>2009</td>\n",
       "      <td>Platform</td>\n",
       "      <td>Nintendo</td>\n",
       "      <td>14.44</td>\n",
       "      <td>6.94</td>\n",
       "      <td>4.70</td>\n",
       "      <td>2.24</td>\n",
       "      <td>28.32</td>\n",
       "      <td>87.0</td>\n",
       "      <td>80.0</td>\n",
       "      <td>8.4</td>\n",
       "      <td>594.0</td>\n",
       "      <td>Nintendo</td>\n",
       "      <td>E</td>\n",
       "    </tr>\n",
       "  </tbody>\n",
       "</table>\n",
       "</div>"
      ],
      "text/plain": [
       "                        Name Platform  Year_of_Release     Genre  \\\n",
       "0                 Wii Sports      Wii             2006    Sports   \n",
       "1             Mario Kart Wii      Wii             2008    Racing   \n",
       "2          Wii Sports Resort      Wii             2009    Sports   \n",
       "3         Kinect Adventures!     X360             2010      Misc   \n",
       "4  New Super Mario Bros. Wii      Wii             2009  Platform   \n",
       "\n",
       "                Publisher  NA_Sales  EU_Sales  JP_Sales  Other_Sales  \\\n",
       "0                Nintendo     41.36     28.96      3.77         8.45   \n",
       "1                Nintendo     15.68     12.76      3.79         3.29   \n",
       "2                Nintendo     15.61     10.93      3.28         2.95   \n",
       "3  Microsoft Game Studios     15.00      4.89      0.24         1.69   \n",
       "4                Nintendo     14.44      6.94      4.70         2.24   \n",
       "\n",
       "   Global_Sales  Critic_Score  Critic_Count User_Score  User_Count  \\\n",
       "0         82.53          76.0          51.0          8       322.0   \n",
       "1         35.52          82.0          73.0        8.3       709.0   \n",
       "2         32.77          80.0          73.0          8       192.0   \n",
       "3         21.81          61.0          45.0        6.3       106.0   \n",
       "4         28.32          87.0          80.0        8.4       594.0   \n",
       "\n",
       "             Developer Rating  \n",
       "0             Nintendo      E  \n",
       "1             Nintendo      E  \n",
       "2             Nintendo      E  \n",
       "3  Good Science Studio      E  \n",
       "4             Nintendo      E  "
      ]
     },
     "execution_count": 3,
     "metadata": {},
     "output_type": "execute_result"
    }
   ],
   "source": [
    "Data_Full.head()"
   ]
  },
  {
   "cell_type": "code",
   "execution_count": 4,
   "id": "a2f3c298",
   "metadata": {},
   "outputs": [
    {
     "data": {
      "text/plain": [
       "(9769, 16)"
      ]
     },
     "execution_count": 4,
     "metadata": {},
     "output_type": "execute_result"
    }
   ],
   "source": [
    "#Get the number of rows and columns of your initial dataset\n",
    "Data_Full.shape"
   ]
  },
  {
   "cell_type": "code",
   "execution_count": 5,
   "id": "48f3ccc4",
   "metadata": {},
   "outputs": [
    {
     "name": "stdout",
     "output_type": "stream",
     "text": [
      "<class 'pandas.core.frame.DataFrame'>\n",
      "RangeIndex: 9769 entries, 0 to 9768\n",
      "Data columns (total 16 columns):\n",
      " #   Column           Non-Null Count  Dtype  \n",
      "---  ------           --------------  -----  \n",
      " 0   Name             9769 non-null   object \n",
      " 1   Platform         9769 non-null   object \n",
      " 2   Year_of_Release  9769 non-null   int64  \n",
      " 3   Genre            9769 non-null   object \n",
      " 4   Publisher        9767 non-null   object \n",
      " 5   NA_Sales         9769 non-null   float64\n",
      " 6   EU_Sales         9769 non-null   float64\n",
      " 7   JP_Sales         9769 non-null   float64\n",
      " 8   Other_Sales      9769 non-null   float64\n",
      " 9   Global_Sales     9769 non-null   float64\n",
      " 10  Critic_Score     7903 non-null   float64\n",
      " 11  Critic_Count     7903 non-null   float64\n",
      " 12  User_Score       9707 non-null   object \n",
      " 13  User_Count       7381 non-null   float64\n",
      " 14  Developer        9769 non-null   object \n",
      " 15  Rating           9769 non-null   object \n",
      "dtypes: float64(8), int64(1), object(7)\n",
      "memory usage: 1.2+ MB\n"
     ]
    }
   ],
   "source": [
    "#Get an overview of the data types \n",
    "Data_Full.info()"
   ]
  },
  {
   "cell_type": "code",
   "execution_count": 6,
   "id": "3a96a49a",
   "metadata": {},
   "outputs": [
    {
     "data": {
      "text/plain": [
       "0"
      ]
     },
     "execution_count": 6,
     "metadata": {},
     "output_type": "execute_result"
    }
   ],
   "source": [
    "#Check whether the dataset has any duplicates\n",
    "Data_Full.duplicated().sum()\n",
    "#There are no duplicates in our dataset"
   ]
  },
  {
   "cell_type": "code",
   "execution_count": 7,
   "id": "251ea7da",
   "metadata": {},
   "outputs": [
    {
     "data": {
      "text/html": [
       "<div>\n",
       "<style scoped>\n",
       "    .dataframe tbody tr th:only-of-type {\n",
       "        vertical-align: middle;\n",
       "    }\n",
       "\n",
       "    .dataframe tbody tr th {\n",
       "        vertical-align: top;\n",
       "    }\n",
       "\n",
       "    .dataframe thead th {\n",
       "        text-align: right;\n",
       "    }\n",
       "</style>\n",
       "<table border=\"1\" class=\"dataframe\">\n",
       "  <thead>\n",
       "    <tr style=\"text-align: right;\">\n",
       "      <th></th>\n",
       "      <th>Variable Name</th>\n",
       "      <th>Variable Explanation</th>\n",
       "    </tr>\n",
       "  </thead>\n",
       "  <tbody>\n",
       "    <tr>\n",
       "      <th>0</th>\n",
       "      <td>Name</td>\n",
       "      <td>Name of the video games</td>\n",
       "    </tr>\n",
       "    <tr>\n",
       "      <th>1</th>\n",
       "      <td>Platform</td>\n",
       "      <td>Name of the Platform the game is played on</td>\n",
       "    </tr>\n",
       "    <tr>\n",
       "      <th>2</th>\n",
       "      <td>Year_of_Release</td>\n",
       "      <td>The year it was released</td>\n",
       "    </tr>\n",
       "    <tr>\n",
       "      <th>3</th>\n",
       "      <td>Genre</td>\n",
       "      <td>Different type of game</td>\n",
       "    </tr>\n",
       "    <tr>\n",
       "      <th>4</th>\n",
       "      <td>Publisher</td>\n",
       "      <td>Publishing company of the game</td>\n",
       "    </tr>\n",
       "    <tr>\n",
       "      <th>5</th>\n",
       "      <td>NA_Sales</td>\n",
       "      <td>Sale of the specific game in Northern America ...</td>\n",
       "    </tr>\n",
       "    <tr>\n",
       "      <th>6</th>\n",
       "      <td>EU_Sales</td>\n",
       "      <td>Sale of the specific game in Europe (in million)</td>\n",
       "    </tr>\n",
       "    <tr>\n",
       "      <th>7</th>\n",
       "      <td>JP_Sales</td>\n",
       "      <td>Sale of the specific game in Japan (in million)</td>\n",
       "    </tr>\n",
       "    <tr>\n",
       "      <th>8</th>\n",
       "      <td>Other_Sales</td>\n",
       "      <td>Sale of the specific game in other parts of th...</td>\n",
       "    </tr>\n",
       "    <tr>\n",
       "      <th>9</th>\n",
       "      <td>Global_Sales</td>\n",
       "      <td>Total sale of the specific game globally (in m...</td>\n",
       "    </tr>\n",
       "    <tr>\n",
       "      <th>10</th>\n",
       "      <td>Critic_Score</td>\n",
       "      <td>Average score given to the game by critics</td>\n",
       "    </tr>\n",
       "    <tr>\n",
       "      <th>11</th>\n",
       "      <td>Critic_Count</td>\n",
       "      <td>Total number of critics who gave the score</td>\n",
       "    </tr>\n",
       "    <tr>\n",
       "      <th>12</th>\n",
       "      <td>User_Score</td>\n",
       "      <td>Average score given to the game by user</td>\n",
       "    </tr>\n",
       "    <tr>\n",
       "      <th>13</th>\n",
       "      <td>User_Count</td>\n",
       "      <td>Total number of users who gave the score</td>\n",
       "    </tr>\n",
       "    <tr>\n",
       "      <th>14</th>\n",
       "      <td>Developer</td>\n",
       "      <td>Name of developer of the game</td>\n",
       "    </tr>\n",
       "    <tr>\n",
       "      <th>15</th>\n",
       "      <td>Rating</td>\n",
       "      <td>ERSB Rating</td>\n",
       "    </tr>\n",
       "  </tbody>\n",
       "</table>\n",
       "</div>"
      ],
      "text/plain": [
       "      Variable Name                               Variable Explanation\n",
       "0              Name                            Name of the video games\n",
       "1          Platform         Name of the Platform the game is played on\n",
       "2   Year_of_Release                           The year it was released\n",
       "3             Genre                             Different type of game\n",
       "4         Publisher                     Publishing company of the game\n",
       "5          NA_Sales  Sale of the specific game in Northern America ...\n",
       "6          EU_Sales   Sale of the specific game in Europe (in million)\n",
       "7          JP_Sales    Sale of the specific game in Japan (in million)\n",
       "8       Other_Sales  Sale of the specific game in other parts of th...\n",
       "9      Global_Sales  Total sale of the specific game globally (in m...\n",
       "10     Critic_Score         Average score given to the game by critics\n",
       "11     Critic_Count         Total number of critics who gave the score\n",
       "12       User_Score            Average score given to the game by user\n",
       "13       User_Count           Total number of users who gave the score\n",
       "14        Developer                      Name of developer of the game\n",
       "15           Rating                                        ERSB Rating"
      ]
     },
     "execution_count": 7,
     "metadata": {},
     "output_type": "execute_result"
    }
   ],
   "source": [
    "# Here is a table to explain the meaning of each column\n",
    "names_var = list(Data_Full.columns)\n",
    "names_explain = [\"Name of the video games\", \n",
    "                 \"Name of the Platform the game is played on\",\n",
    "                 \"The year it was released\",\n",
    "                 \"Different type of game\",\n",
    "                 \"Publishing company of the game\",\n",
    "                 \"Sale of the specific game in Northern America (in million)\",\n",
    "                 \"Sale of the specific game in Europe (in million)\",\n",
    "                 \"Sale of the specific game in Japan (in million)\",\n",
    "                 \"Sale of the specific game in other parts of the world (in million)\",\n",
    "                 \"Total sale of the specific game globally (in million)\",\n",
    "                 \"Average score given to the game by critics\",\n",
    "                 \"Total number of critics who gave the score\",\n",
    "                 \"Average score given to the game by user\",\n",
    "                 \"Total number of users who gave the score\",\n",
    "                 \"Name of developer of the game\",\n",
    "                 \"ERSB Rating\",]\n",
    "var_explanation = pd.DataFrame({\"Variable Name\":names_var,\n",
    "                                \"Variable Explanation\":names_explain})\n",
    "var_explanation"
   ]
  },
  {
   "cell_type": "markdown",
   "id": "56e004d6",
   "metadata": {},
   "source": [
    "## Data Preparing"
   ]
  },
  {
   "cell_type": "markdown",
   "id": "289017dd",
   "metadata": {},
   "source": [
    "### Data Cleaning"
   ]
  },
  {
   "cell_type": "markdown",
   "id": "a02ffd2b",
   "metadata": {},
   "source": [
    "From the above problems identification, there are some data cleaning procedures to do to the dataset:\n",
    "\n",
    "- Remove all missing values\n",
    "- Get rid of string element in the User_Score column"
   ]
  },
  {
   "cell_type": "code",
   "execution_count": 8,
   "id": "1c9fd30c",
   "metadata": {},
   "outputs": [
    {
     "data": {
      "text/plain": [
       "Name                  0\n",
       "Platform              0\n",
       "Year_of_Release       0\n",
       "Genre                 0\n",
       "Publisher             2\n",
       "NA_Sales              0\n",
       "EU_Sales              0\n",
       "JP_Sales              0\n",
       "Other_Sales           0\n",
       "Global_Sales          0\n",
       "Critic_Score       1866\n",
       "Critic_Count       1866\n",
       "User_Score         2388\n",
       "User_Count         2388\n",
       "Developer             0\n",
       "Rating                0\n",
       "dtype: int64"
      ]
     },
     "execution_count": 8,
     "metadata": {},
     "output_type": "execute_result"
    }
   ],
   "source": [
    "#Convert the strings from the User_Score column (\"tbd\") to na, then get an overview of how much data is missing\n",
    "Data_Full[\"User_Score\"].replace('tbd', np.nan,inplace=True)\n",
    "Data_Full.isna().sum()"
   ]
  },
  {
   "cell_type": "code",
   "execution_count": 9,
   "id": "7aab393c",
   "metadata": {},
   "outputs": [
    {
     "data": {
      "text/plain": [
       "Name               6826\n",
       "Platform           6826\n",
       "Year_of_Release    6826\n",
       "Genre              6826\n",
       "Publisher          6826\n",
       "NA_Sales           6826\n",
       "EU_Sales           6826\n",
       "JP_Sales           6826\n",
       "Other_Sales        6826\n",
       "Global_Sales       6826\n",
       "Critic_Score       6826\n",
       "Critic_Count       6826\n",
       "User_Score         6826\n",
       "User_Count         6826\n",
       "Developer          6826\n",
       "Rating             6826\n",
       "dtype: int64"
      ]
     },
     "execution_count": 9,
     "metadata": {},
     "output_type": "execute_result"
    }
   ],
   "source": [
    "#Cleaning the NA Values\n",
    "#After dropping the missing values, have 6826 rows left\n",
    "Data_Full_Clean = Data_Full.dropna(axis=0,how='any')\n",
    "Data_Full_Clean.count()"
   ]
  },
  {
   "cell_type": "code",
   "execution_count": 10,
   "id": "22424ecc",
   "metadata": {},
   "outputs": [
    {
     "data": {
      "text/plain": [
       "Platform\n",
       "PS2     1140\n",
       "X360     858\n",
       "PS3      769\n",
       "PC       652\n",
       "XB       565\n",
       "Wii      479\n",
       "DS       464\n",
       "PSP      390\n",
       "GC       348\n",
       "PS4      239\n",
       "GBA      237\n",
       "XOne     159\n",
       "3DS      155\n",
       "PS       150\n",
       "PSV      118\n",
       "WiiU      89\n",
       "DC        14\n",
       "Name: count, dtype: int64"
      ]
     },
     "execution_count": 10,
     "metadata": {},
     "output_type": "execute_result"
    },
    {
     "data": {
      "text/plain": [
       "Genre\n",
       "Action          1631\n",
       "Sports           943\n",
       "Shooter          864\n",
       "Role-Playing     712\n",
       "Racing           581\n",
       "Platform         403\n",
       "Misc             384\n",
       "Fighting         378\n",
       "Simulation       297\n",
       "Strategy         267\n",
       "Adventure        248\n",
       "Puzzle           118\n",
       "Name: count, dtype: int64"
      ]
     },
     "execution_count": 10,
     "metadata": {},
     "output_type": "execute_result"
    },
    {
     "data": {
      "text/plain": [
       "Publisher\n",
       "Electronic Arts                944\n",
       "Ubisoft                        496\n",
       "Activision                     492\n",
       "Sony Computer Entertainment    316\n",
       "THQ                            307\n",
       "                              ... \n",
       "Groove Games                     1\n",
       "System 3                         1\n",
       "Reef Entertainment               1\n",
       "Acquire                          1\n",
       "Avanquest                        1\n",
       "Name: count, Length: 262, dtype: int64"
      ]
     },
     "execution_count": 10,
     "metadata": {},
     "output_type": "execute_result"
    },
    {
     "data": {
      "text/plain": [
       "Developer\n",
       "EA Canada                                   149\n",
       "EA Sports                                   142\n",
       "Capcom                                      126\n",
       "Ubisoft                                     103\n",
       "Konami                                       95\n",
       "                                           ... \n",
       "Zombie                                        1\n",
       "Game Arts, Japan Art Media (JAM)              1\n",
       "Matrix Software, Marvelous Entertainment      1\n",
       "Deep Fried Entertainment                      1\n",
       "Coffee Stain Studios                          1\n",
       "Name: count, Length: 1289, dtype: int64"
      ]
     },
     "execution_count": 10,
     "metadata": {},
     "output_type": "execute_result"
    },
    {
     "data": {
      "text/plain": [
       "Rating\n",
       "T       2377\n",
       "E       2082\n",
       "M       1434\n",
       "E10+     930\n",
       "AO         1\n",
       "K-A        1\n",
       "RP         1\n",
       "Name: count, dtype: int64"
      ]
     },
     "execution_count": 10,
     "metadata": {},
     "output_type": "execute_result"
    },
    {
     "data": {
      "text/plain": [
       "User_Score\n",
       "7.8    294\n",
       "8      259\n",
       "8.2    258\n",
       "8.5    239\n",
       "7.9    235\n",
       "      ... \n",
       "1.9      2\n",
       "0.6      1\n",
       "0.9      1\n",
       "0.7      1\n",
       "1.3      1\n",
       "Name: count, Length: 89, dtype: int64"
      ]
     },
     "execution_count": 10,
     "metadata": {},
     "output_type": "execute_result"
    },
    {
     "data": {
      "text/plain": [
       "1985"
      ]
     },
     "execution_count": 10,
     "metadata": {},
     "output_type": "execute_result"
    },
    {
     "data": {
      "text/plain": [
       "2016"
      ]
     },
     "execution_count": 10,
     "metadata": {},
     "output_type": "execute_result"
    }
   ],
   "source": [
    "# check some columns in detail\n",
    "# Data available from 1985 - 2016\n",
    "# The cleaned \"User Score\" column is still classified as an object type\n",
    "Data_Full_Clean[\"Platform\"].value_counts()\n",
    "Data_Full_Clean[\"Genre\"].value_counts()\n",
    "Data_Full_Clean[\"Publisher\"].value_counts()\n",
    "Data_Full_Clean[\"Developer\"].value_counts()\n",
    "Data_Full_Clean[\"Rating\"].value_counts()\n",
    "Data_Full_Clean[\"User_Score\"].value_counts()\n",
    "Data_Full_Clean[\"Year_of_Release\"].min()\n",
    "Data_Full_Clean[\"Year_of_Release\"].max()\n"
   ]
  },
  {
   "cell_type": "code",
   "execution_count": 11,
   "id": "cf02c926",
   "metadata": {},
   "outputs": [
    {
     "name": "stderr",
     "output_type": "stream",
     "text": [
      "C:\\Users\\Gurveen Matharu\\AppData\\Local\\Temp\\ipykernel_23396\\967138789.py:2: SettingWithCopyWarning: \n",
      "A value is trying to be set on a copy of a slice from a DataFrame.\n",
      "Try using .loc[row_indexer,col_indexer] = value instead\n",
      "\n",
      "See the caveats in the documentation: https://pandas.pydata.org/pandas-docs/stable/user_guide/indexing.html#returning-a-view-versus-a-copy\n",
      "  Data_Full_Clean[\"User_Score\"] = Data_Full_Clean[\"User_Score\"].astype(float)\n"
     ]
    }
   ],
   "source": [
    "#Convert the \"User Score\" column from object to float data type, then able to perform numerical operations \n",
    "Data_Full_Clean[\"User_Score\"] = Data_Full_Clean[\"User_Score\"].astype(float)"
   ]
  },
  {
   "cell_type": "code",
   "execution_count": 12,
   "id": "4b53c965",
   "metadata": {},
   "outputs": [
    {
     "name": "stdout",
     "output_type": "stream",
     "text": [
      "<class 'pandas.core.frame.DataFrame'>\n",
      "Index: 6826 entries, 0 to 9768\n",
      "Data columns (total 16 columns):\n",
      " #   Column           Non-Null Count  Dtype  \n",
      "---  ------           --------------  -----  \n",
      " 0   Name             6826 non-null   object \n",
      " 1   Platform         6826 non-null   object \n",
      " 2   Year_of_Release  6826 non-null   int64  \n",
      " 3   Genre            6826 non-null   object \n",
      " 4   Publisher        6826 non-null   object \n",
      " 5   NA_Sales         6826 non-null   float64\n",
      " 6   EU_Sales         6826 non-null   float64\n",
      " 7   JP_Sales         6826 non-null   float64\n",
      " 8   Other_Sales      6826 non-null   float64\n",
      " 9   Global_Sales     6826 non-null   float64\n",
      " 10  Critic_Score     6826 non-null   float64\n",
      " 11  Critic_Count     6826 non-null   float64\n",
      " 12  User_Score       6826 non-null   float64\n",
      " 13  User_Count       6826 non-null   float64\n",
      " 14  Developer        6826 non-null   object \n",
      " 15  Rating           6826 non-null   object \n",
      "dtypes: float64(9), int64(1), object(6)\n",
      "memory usage: 906.6+ KB\n"
     ]
    }
   ],
   "source": [
    "#check the data type conversion\n",
    "Data_Full_Clean.info()"
   ]
  },
  {
   "cell_type": "code",
   "execution_count": 13,
   "id": "278447ce",
   "metadata": {},
   "outputs": [
    {
     "data": {
      "text/html": [
       "<div>\n",
       "<style scoped>\n",
       "    .dataframe tbody tr th:only-of-type {\n",
       "        vertical-align: middle;\n",
       "    }\n",
       "\n",
       "    .dataframe tbody tr th {\n",
       "        vertical-align: top;\n",
       "    }\n",
       "\n",
       "    .dataframe thead th {\n",
       "        text-align: right;\n",
       "    }\n",
       "</style>\n",
       "<table border=\"1\" class=\"dataframe\">\n",
       "  <thead>\n",
       "    <tr style=\"text-align: right;\">\n",
       "      <th></th>\n",
       "      <th>Name</th>\n",
       "      <th>Platform</th>\n",
       "      <th>Year_of_Release</th>\n",
       "      <th>Genre</th>\n",
       "      <th>Publisher</th>\n",
       "      <th>NA_Sales</th>\n",
       "      <th>EU_Sales</th>\n",
       "      <th>JP_Sales</th>\n",
       "      <th>Other_Sales</th>\n",
       "      <th>Global_Sales</th>\n",
       "      <th>Critic_Score</th>\n",
       "      <th>Critic_Count</th>\n",
       "      <th>User_Score</th>\n",
       "      <th>User_Count</th>\n",
       "      <th>Developer</th>\n",
       "      <th>Rating</th>\n",
       "    </tr>\n",
       "  </thead>\n",
       "  <tbody>\n",
       "    <tr>\n",
       "      <th>0</th>\n",
       "      <td>Wii Sports</td>\n",
       "      <td>Wii</td>\n",
       "      <td>2006</td>\n",
       "      <td>Sports</td>\n",
       "      <td>Nintendo</td>\n",
       "      <td>41.36</td>\n",
       "      <td>28.96</td>\n",
       "      <td>3.77</td>\n",
       "      <td>8.45</td>\n",
       "      <td>82.53</td>\n",
       "      <td>76.0</td>\n",
       "      <td>51.0</td>\n",
       "      <td>8.0</td>\n",
       "      <td>322.0</td>\n",
       "      <td>Nintendo</td>\n",
       "      <td>E</td>\n",
       "    </tr>\n",
       "    <tr>\n",
       "      <th>1</th>\n",
       "      <td>Mario Kart Wii</td>\n",
       "      <td>Wii</td>\n",
       "      <td>2008</td>\n",
       "      <td>Racing</td>\n",
       "      <td>Nintendo</td>\n",
       "      <td>15.68</td>\n",
       "      <td>12.76</td>\n",
       "      <td>3.79</td>\n",
       "      <td>3.29</td>\n",
       "      <td>35.52</td>\n",
       "      <td>82.0</td>\n",
       "      <td>73.0</td>\n",
       "      <td>8.3</td>\n",
       "      <td>709.0</td>\n",
       "      <td>Nintendo</td>\n",
       "      <td>E</td>\n",
       "    </tr>\n",
       "    <tr>\n",
       "      <th>2</th>\n",
       "      <td>Wii Sports Resort</td>\n",
       "      <td>Wii</td>\n",
       "      <td>2009</td>\n",
       "      <td>Sports</td>\n",
       "      <td>Nintendo</td>\n",
       "      <td>15.61</td>\n",
       "      <td>10.93</td>\n",
       "      <td>3.28</td>\n",
       "      <td>2.95</td>\n",
       "      <td>32.77</td>\n",
       "      <td>80.0</td>\n",
       "      <td>73.0</td>\n",
       "      <td>8.0</td>\n",
       "      <td>192.0</td>\n",
       "      <td>Nintendo</td>\n",
       "      <td>E</td>\n",
       "    </tr>\n",
       "    <tr>\n",
       "      <th>3</th>\n",
       "      <td>Kinect Adventures!</td>\n",
       "      <td>X360</td>\n",
       "      <td>2010</td>\n",
       "      <td>Misc</td>\n",
       "      <td>Microsoft Game Studios</td>\n",
       "      <td>15.00</td>\n",
       "      <td>4.89</td>\n",
       "      <td>0.24</td>\n",
       "      <td>1.69</td>\n",
       "      <td>21.81</td>\n",
       "      <td>61.0</td>\n",
       "      <td>45.0</td>\n",
       "      <td>6.3</td>\n",
       "      <td>106.0</td>\n",
       "      <td>Good Science Studio</td>\n",
       "      <td>E</td>\n",
       "    </tr>\n",
       "    <tr>\n",
       "      <th>4</th>\n",
       "      <td>New Super Mario Bros. Wii</td>\n",
       "      <td>Wii</td>\n",
       "      <td>2009</td>\n",
       "      <td>Platform</td>\n",
       "      <td>Nintendo</td>\n",
       "      <td>14.44</td>\n",
       "      <td>6.94</td>\n",
       "      <td>4.70</td>\n",
       "      <td>2.24</td>\n",
       "      <td>28.32</td>\n",
       "      <td>87.0</td>\n",
       "      <td>80.0</td>\n",
       "      <td>8.4</td>\n",
       "      <td>594.0</td>\n",
       "      <td>Nintendo</td>\n",
       "      <td>E</td>\n",
       "    </tr>\n",
       "    <tr>\n",
       "      <th>...</th>\n",
       "      <td>...</td>\n",
       "      <td>...</td>\n",
       "      <td>...</td>\n",
       "      <td>...</td>\n",
       "      <td>...</td>\n",
       "      <td>...</td>\n",
       "      <td>...</td>\n",
       "      <td>...</td>\n",
       "      <td>...</td>\n",
       "      <td>...</td>\n",
       "      <td>...</td>\n",
       "      <td>...</td>\n",
       "      <td>...</td>\n",
       "      <td>...</td>\n",
       "      <td>...</td>\n",
       "      <td>...</td>\n",
       "    </tr>\n",
       "    <tr>\n",
       "      <th>9761</th>\n",
       "      <td>Goat Simulator</td>\n",
       "      <td>XOne</td>\n",
       "      <td>2016</td>\n",
       "      <td>Simulation</td>\n",
       "      <td>Koch Media</td>\n",
       "      <td>0.00</td>\n",
       "      <td>0.01</td>\n",
       "      <td>0.00</td>\n",
       "      <td>0.00</td>\n",
       "      <td>0.01</td>\n",
       "      <td>53.0</td>\n",
       "      <td>15.0</td>\n",
       "      <td>6.3</td>\n",
       "      <td>63.0</td>\n",
       "      <td>Coffee Stain Studios</td>\n",
       "      <td>T</td>\n",
       "    </tr>\n",
       "    <tr>\n",
       "      <th>9762</th>\n",
       "      <td>TrackMania Turbo</td>\n",
       "      <td>PC</td>\n",
       "      <td>2016</td>\n",
       "      <td>Action</td>\n",
       "      <td>Ubisoft</td>\n",
       "      <td>0.00</td>\n",
       "      <td>0.01</td>\n",
       "      <td>0.00</td>\n",
       "      <td>0.00</td>\n",
       "      <td>0.01</td>\n",
       "      <td>79.0</td>\n",
       "      <td>13.0</td>\n",
       "      <td>6.8</td>\n",
       "      <td>42.0</td>\n",
       "      <td>Nadeo</td>\n",
       "      <td>E</td>\n",
       "    </tr>\n",
       "    <tr>\n",
       "      <th>9764</th>\n",
       "      <td>Ride 2</td>\n",
       "      <td>PC</td>\n",
       "      <td>2016</td>\n",
       "      <td>Racing</td>\n",
       "      <td>Milestone S.r.l</td>\n",
       "      <td>0.00</td>\n",
       "      <td>0.01</td>\n",
       "      <td>0.00</td>\n",
       "      <td>0.00</td>\n",
       "      <td>0.01</td>\n",
       "      <td>78.0</td>\n",
       "      <td>4.0</td>\n",
       "      <td>7.9</td>\n",
       "      <td>14.0</td>\n",
       "      <td>Milestone S.r.l</td>\n",
       "      <td>E</td>\n",
       "    </tr>\n",
       "    <tr>\n",
       "      <th>9766</th>\n",
       "      <td>SÃ©bastien Loeb Rally Evo</td>\n",
       "      <td>XOne</td>\n",
       "      <td>2016</td>\n",
       "      <td>Racing</td>\n",
       "      <td>Milestone S.r.l</td>\n",
       "      <td>0.00</td>\n",
       "      <td>0.01</td>\n",
       "      <td>0.00</td>\n",
       "      <td>0.00</td>\n",
       "      <td>0.01</td>\n",
       "      <td>63.0</td>\n",
       "      <td>8.0</td>\n",
       "      <td>8.2</td>\n",
       "      <td>22.0</td>\n",
       "      <td>Milestone S.r.l</td>\n",
       "      <td>E</td>\n",
       "    </tr>\n",
       "    <tr>\n",
       "      <th>9768</th>\n",
       "      <td>Fast Racing Neo</td>\n",
       "      <td>WiiU</td>\n",
       "      <td>2016</td>\n",
       "      <td>Action</td>\n",
       "      <td>Nintendo</td>\n",
       "      <td>0.00</td>\n",
       "      <td>0.01</td>\n",
       "      <td>0.00</td>\n",
       "      <td>0.00</td>\n",
       "      <td>0.01</td>\n",
       "      <td>81.0</td>\n",
       "      <td>46.0</td>\n",
       "      <td>8.5</td>\n",
       "      <td>151.0</td>\n",
       "      <td>Shin'en</td>\n",
       "      <td>E</td>\n",
       "    </tr>\n",
       "  </tbody>\n",
       "</table>\n",
       "<p>6747 rows × 16 columns</p>\n",
       "</div>"
      ],
      "text/plain": [
       "                           Name Platform  Year_of_Release       Genre  \\\n",
       "0                    Wii Sports      Wii             2006      Sports   \n",
       "1                Mario Kart Wii      Wii             2008      Racing   \n",
       "2             Wii Sports Resort      Wii             2009      Sports   \n",
       "3            Kinect Adventures!     X360             2010        Misc   \n",
       "4     New Super Mario Bros. Wii      Wii             2009    Platform   \n",
       "...                         ...      ...              ...         ...   \n",
       "9761             Goat Simulator     XOne             2016  Simulation   \n",
       "9762           TrackMania Turbo       PC             2016      Action   \n",
       "9764                     Ride 2       PC             2016      Racing   \n",
       "9766  SÃ©bastien Loeb Rally Evo     XOne             2016      Racing   \n",
       "9768           Fast Racing Neo      WiiU             2016      Action   \n",
       "\n",
       "                   Publisher  NA_Sales  EU_Sales  JP_Sales  Other_Sales  \\\n",
       "0                   Nintendo     41.36     28.96      3.77         8.45   \n",
       "1                   Nintendo     15.68     12.76      3.79         3.29   \n",
       "2                   Nintendo     15.61     10.93      3.28         2.95   \n",
       "3     Microsoft Game Studios     15.00      4.89      0.24         1.69   \n",
       "4                   Nintendo     14.44      6.94      4.70         2.24   \n",
       "...                      ...       ...       ...       ...          ...   \n",
       "9761              Koch Media      0.00      0.01      0.00         0.00   \n",
       "9762                 Ubisoft      0.00      0.01      0.00         0.00   \n",
       "9764         Milestone S.r.l      0.00      0.01      0.00         0.00   \n",
       "9766         Milestone S.r.l      0.00      0.01      0.00         0.00   \n",
       "9768                Nintendo      0.00      0.01      0.00         0.00   \n",
       "\n",
       "      Global_Sales  Critic_Score  Critic_Count  User_Score  User_Count  \\\n",
       "0            82.53          76.0          51.0         8.0       322.0   \n",
       "1            35.52          82.0          73.0         8.3       709.0   \n",
       "2            32.77          80.0          73.0         8.0       192.0   \n",
       "3            21.81          61.0          45.0         6.3       106.0   \n",
       "4            28.32          87.0          80.0         8.4       594.0   \n",
       "...            ...           ...           ...         ...         ...   \n",
       "9761          0.01          53.0          15.0         6.3        63.0   \n",
       "9762          0.01          79.0          13.0         6.8        42.0   \n",
       "9764          0.01          78.0           4.0         7.9        14.0   \n",
       "9766          0.01          63.0           8.0         8.2        22.0   \n",
       "9768          0.01          81.0          46.0         8.5       151.0   \n",
       "\n",
       "                 Developer Rating  \n",
       "0                 Nintendo      E  \n",
       "1                 Nintendo      E  \n",
       "2                 Nintendo      E  \n",
       "3      Good Science Studio      E  \n",
       "4                 Nintendo      E  \n",
       "...                    ...    ...  \n",
       "9761  Coffee Stain Studios      T  \n",
       "9762                 Nadeo      E  \n",
       "9764       Milestone S.r.l      E  \n",
       "9766       Milestone S.r.l      E  \n",
       "9768               Shin'en      E  \n",
       "\n",
       "[6747 rows x 16 columns]"
      ]
     },
     "execution_count": 13,
     "metadata": {},
     "output_type": "execute_result"
    }
   ],
   "source": [
    "#Filtering the dataset to include years 2000 onwards\n",
    "filtered_data = Data_Full_Clean[(Data_Full_Clean['Year_of_Release'] >= 2000) & (Data_Full_Clean['Year_of_Release'] <= 2016)]\n",
    "filtered_data"
   ]
  },
  {
   "cell_type": "markdown",
   "id": "5389a9d5",
   "metadata": {},
   "source": [
    "# Creating Visualisations "
   ]
  },
  {
   "cell_type": "markdown",
   "id": "f4088718",
   "metadata": {},
   "source": [
    "### 1. Bar Graph"
   ]
  },
  {
   "cell_type": "markdown",
   "id": "040ee36c",
   "metadata": {},
   "source": [
    "The first visualisation shows the top 4 platforms in terms of the most video games sold in millions ($) from 2000 - 2016 (Global Sales)"
   ]
  },
  {
   "cell_type": "code",
   "execution_count": 14,
   "id": "7a5aade6",
   "metadata": {},
   "outputs": [
    {
     "data": {
      "text/html": [
       "<div>\n",
       "<style scoped>\n",
       "    .dataframe tbody tr th:only-of-type {\n",
       "        vertical-align: middle;\n",
       "    }\n",
       "\n",
       "    .dataframe tbody tr th {\n",
       "        vertical-align: top;\n",
       "    }\n",
       "\n",
       "    .dataframe thead th {\n",
       "        text-align: right;\n",
       "    }\n",
       "</style>\n",
       "<table border=\"1\" class=\"dataframe\">\n",
       "  <thead>\n",
       "    <tr style=\"text-align: right;\">\n",
       "      <th></th>\n",
       "      <th>Platform</th>\n",
       "      <th>Global_Sales</th>\n",
       "    </tr>\n",
       "  </thead>\n",
       "  <tbody>\n",
       "    <tr>\n",
       "      <th>0</th>\n",
       "      <td>3DS</td>\n",
       "      <td>123.23</td>\n",
       "    </tr>\n",
       "    <tr>\n",
       "      <th>1</th>\n",
       "      <td>DC</td>\n",
       "      <td>2.51</td>\n",
       "    </tr>\n",
       "    <tr>\n",
       "      <th>2</th>\n",
       "      <td>DS</td>\n",
       "      <td>382.33</td>\n",
       "    </tr>\n",
       "    <tr>\n",
       "      <th>3</th>\n",
       "      <td>GBA</td>\n",
       "      <td>131.75</td>\n",
       "    </tr>\n",
       "    <tr>\n",
       "      <th>4</th>\n",
       "      <td>GC</td>\n",
       "      <td>159.42</td>\n",
       "    </tr>\n",
       "    <tr>\n",
       "      <th>5</th>\n",
       "      <td>PC</td>\n",
       "      <td>180.43</td>\n",
       "    </tr>\n",
       "    <tr>\n",
       "      <th>6</th>\n",
       "      <td>PS</td>\n",
       "      <td>64.81</td>\n",
       "    </tr>\n",
       "    <tr>\n",
       "      <th>7</th>\n",
       "      <td>PS2</td>\n",
       "      <td>945.97</td>\n",
       "    </tr>\n",
       "    <tr>\n",
       "      <th>8</th>\n",
       "      <td>PS3</td>\n",
       "      <td>784.30</td>\n",
       "    </tr>\n",
       "    <tr>\n",
       "      <th>9</th>\n",
       "      <td>PS4</td>\n",
       "      <td>243.03</td>\n",
       "    </tr>\n",
       "    <tr>\n",
       "      <th>10</th>\n",
       "      <td>PSP</td>\n",
       "      <td>187.92</td>\n",
       "    </tr>\n",
       "    <tr>\n",
       "      <th>11</th>\n",
       "      <td>PSV</td>\n",
       "      <td>30.88</td>\n",
       "    </tr>\n",
       "    <tr>\n",
       "      <th>12</th>\n",
       "      <td>Wii</td>\n",
       "      <td>658.98</td>\n",
       "    </tr>\n",
       "    <tr>\n",
       "      <th>13</th>\n",
       "      <td>WiiU</td>\n",
       "      <td>66.08</td>\n",
       "    </tr>\n",
       "    <tr>\n",
       "      <th>14</th>\n",
       "      <td>X360</td>\n",
       "      <td>853.30</td>\n",
       "    </tr>\n",
       "    <tr>\n",
       "      <th>15</th>\n",
       "      <td>XB</td>\n",
       "      <td>212.07</td>\n",
       "    </tr>\n",
       "    <tr>\n",
       "      <th>16</th>\n",
       "      <td>XOne</td>\n",
       "      <td>129.57</td>\n",
       "    </tr>\n",
       "  </tbody>\n",
       "</table>\n",
       "</div>"
      ],
      "text/plain": [
       "   Platform  Global_Sales\n",
       "0       3DS        123.23\n",
       "1        DC          2.51\n",
       "2        DS        382.33\n",
       "3       GBA        131.75\n",
       "4        GC        159.42\n",
       "5        PC        180.43\n",
       "6        PS         64.81\n",
       "7       PS2        945.97\n",
       "8       PS3        784.30\n",
       "9       PS4        243.03\n",
       "10      PSP        187.92\n",
       "11      PSV         30.88\n",
       "12      Wii        658.98\n",
       "13     WiiU         66.08\n",
       "14     X360        853.30\n",
       "15       XB        212.07\n",
       "16     XOne        129.57"
      ]
     },
     "execution_count": 14,
     "metadata": {},
     "output_type": "execute_result"
    }
   ],
   "source": [
    "#First I group the data according to platforms and then take the sum of the global sales for each platform\n",
    "platform_grouped = filtered_data.groupby('Platform')['Global_Sales'].sum().reset_index()\n",
    "platform_grouped"
   ]
  },
  {
   "cell_type": "code",
   "execution_count": 15,
   "id": "aeaf0774",
   "metadata": {
    "scrolled": true
   },
   "outputs": [
    {
     "data": {
      "text/html": [
       "<div>\n",
       "<style scoped>\n",
       "    .dataframe tbody tr th:only-of-type {\n",
       "        vertical-align: middle;\n",
       "    }\n",
       "\n",
       "    .dataframe tbody tr th {\n",
       "        vertical-align: top;\n",
       "    }\n",
       "\n",
       "    .dataframe thead th {\n",
       "        text-align: right;\n",
       "    }\n",
       "</style>\n",
       "<table border=\"1\" class=\"dataframe\">\n",
       "  <thead>\n",
       "    <tr style=\"text-align: right;\">\n",
       "      <th></th>\n",
       "      <th>Platform</th>\n",
       "      <th>Global_Sales</th>\n",
       "    </tr>\n",
       "  </thead>\n",
       "  <tbody>\n",
       "    <tr>\n",
       "      <th>7</th>\n",
       "      <td>PS2</td>\n",
       "      <td>945.97</td>\n",
       "    </tr>\n",
       "    <tr>\n",
       "      <th>14</th>\n",
       "      <td>X360</td>\n",
       "      <td>853.30</td>\n",
       "    </tr>\n",
       "    <tr>\n",
       "      <th>8</th>\n",
       "      <td>PS3</td>\n",
       "      <td>784.30</td>\n",
       "    </tr>\n",
       "    <tr>\n",
       "      <th>12</th>\n",
       "      <td>Wii</td>\n",
       "      <td>658.98</td>\n",
       "    </tr>\n",
       "  </tbody>\n",
       "</table>\n",
       "</div>"
      ],
      "text/plain": [
       "   Platform  Global_Sales\n",
       "7       PS2        945.97\n",
       "14     X360        853.30\n",
       "8       PS3        784.30\n",
       "12      Wii        658.98"
      ]
     },
     "execution_count": 15,
     "metadata": {},
     "output_type": "execute_result"
    }
   ],
   "source": [
    "#Getting just the top four platforms in top global sales \n",
    "platform_sales_sorted = platform_grouped.sort_values(by='Global_Sales', ascending=False)\n",
    "top_4_platforms = platform_sales_sorted.head(4)\n",
    "top_4_platforms"
   ]
  },
  {
   "cell_type": "code",
   "execution_count": 16,
   "id": "0561128f",
   "metadata": {},
   "outputs": [
    {
     "data": {
      "text/plain": [
       "<Figure size 504x432 with 0 Axes>"
      ]
     },
     "execution_count": 16,
     "metadata": {},
     "output_type": "execute_result"
    },
    {
     "data": {
      "text/plain": [
       "<BarContainer object of 4 artists>"
      ]
     },
     "execution_count": 16,
     "metadata": {},
     "output_type": "execute_result"
    },
    {
     "data": {
      "text/plain": [
       "Text(0.5, 0, 'Platform')"
      ]
     },
     "execution_count": 16,
     "metadata": {},
     "output_type": "execute_result"
    },
    {
     "data": {
      "text/plain": [
       "Text(0, 0.5, 'Global Sales (in millions $)')"
      ]
     },
     "execution_count": 16,
     "metadata": {},
     "output_type": "execute_result"
    },
    {
     "data": {
      "text/plain": [
       "Text(0.5, 1.0, 'Global Sales by Platform from 2000 - 2016')"
      ]
     },
     "execution_count": 16,
     "metadata": {},
     "output_type": "execute_result"
    },
    {
     "data": {
      "image/png": "[encoded data removed]",
      "text/plain": [
       "<Figure size 504x432 with 1 Axes>"
      ]
     },
     "metadata": {
      "needs_background": "light"
     },
     "output_type": "display_data"
    }
   ],
   "source": [
    "#Bargraph\n",
    "plt.figure(figsize=(7,6))\n",
    "bar_width = 0.4\n",
    "custom_colours = ['#355070', '#6d597a', '#b56576', '#e56b6f']\n",
    "plt.bar(top_4_platforms['Platform'], top_4_platforms['Global_Sales'], width=bar_width, color=custom_colours)\n",
    "\n",
    "plt.xlabel('Platform')\n",
    "plt.ylabel('Global Sales (in millions $)')\n",
    "plt.title('Global Sales by Platform from 2000 - 2016', fontweight='bold')\n",
    "\n",
    "plt.gca().spines['top'].set_visible(False)\n",
    "plt.gca().spines['right'].set_visible(False)\n",
    "\n",
    "plt.tight_layout()  \n",
    "plt.show()"
   ]
  },
  {
   "cell_type": "markdown",
   "id": "d603006b",
   "metadata": {},
   "source": [
    "From the visual, the PS2 was released in November 2000 and was the highest highest selling console with 946 million games sold wordwide. The XBOX 360 was released in 2005 by Microsoft and followed to be the second best console in sales of games. Furthermore, this was followed by the PS3 and Wii games with both of their releases in 2006. Wii was especially popular due to its ability to be targeted to both gamers and non-gamers and its super interactive features. "
   ]
  },
  {
   "cell_type": "markdown",
   "id": "91d6c46b",
   "metadata": {},
   "source": [
    "### 2. Pie charts"
   ]
  },
  {
   "cell_type": "code",
   "execution_count": 17,
   "id": "177c9cf3",
   "metadata": {},
   "outputs": [
    {
     "data": {
      "text/plain": [
       "<Figure size 1152x864 with 0 Axes>"
      ]
     },
     "execution_count": 17,
     "metadata": {},
     "output_type": "execute_result"
    },
    {
     "data": {
      "text/plain": [
       "<AxesSubplot:>"
      ]
     },
     "execution_count": 17,
     "metadata": {},
     "output_type": "execute_result"
    },
    {
     "data": {
      "text/plain": [
       "([<matplotlib.patches.Wedge at 0x1ec06b952e0>,\n",
       "  <matplotlib.patches.Wedge at 0x1ec06b5b910>,\n",
       "  <matplotlib.patches.Wedge at 0x1ec06ba61c0>,\n",
       "  <matplotlib.patches.Wedge at 0x1ec06ba68e0>,\n",
       "  <matplotlib.patches.Wedge at 0x1ec06bb3040>],\n",
       " [Text(-1.0869422348299655, -0.1689869170759681, 'Grand Theft Auto: San Andreas'),\n",
       "  Text(0.10686296459822264, -1.094796924912232, 'Grand Theft Auto: Vice City'),\n",
       "  Text(1.0784159087629603, -0.21683894421196226, 'Gran Turismo 3: A-Spec'),\n",
       "  Text(0.6383145169902278, 0.8958541049744274, 'Grand Theft Auto III'),\n",
       "  Text(-0.4233674414533215, 1.0152635172787745, 'Gran Turismo 4')],\n",
       " [Text(-0.5928775826345266, -0.09217468204143714, '27.1%'),\n",
       "  Text(0.05828888978084871, -0.5971619590430356, '21.1%'),\n",
       "  Text(0.5882268593252511, -0.1182757877519794, '19.5%'),\n",
       "  Text(0.3481715547219424, 0.4886476936224149, '17.1%'),\n",
       "  Text(-0.2309276953381753, 0.5537801003338769, '15.2%')])"
      ]
     },
     "execution_count": 17,
     "metadata": {},
     "output_type": "execute_result"
    },
    {
     "data": {
      "text/plain": [
       "(-1.1115878382150095,\n",
       " 1.122560935607712,\n",
       " -1.1182174972852748,\n",
       " 1.1111136239567767)"
      ]
     },
     "execution_count": 17,
     "metadata": {},
     "output_type": "execute_result"
    },
    {
     "data": {
      "text/plain": [
       "Text(0.5, 1.0, 'Top 5 Games - PS2')"
      ]
     },
     "execution_count": 17,
     "metadata": {},
     "output_type": "execute_result"
    },
    {
     "data": {
      "text/plain": [
       "<AxesSubplot:>"
      ]
     },
     "execution_count": 17,
     "metadata": {},
     "output_type": "execute_result"
    },
    {
     "data": {
      "text/plain": [
       "([<matplotlib.patches.Wedge at 0x1ec06bf41c0>,\n",
       "  <matplotlib.patches.Wedge at 0x1ec06bf49a0>,\n",
       "  <matplotlib.patches.Wedge at 0x1ec06c02100>,\n",
       "  <matplotlib.patches.Wedge at 0x1ec06c02820>,\n",
       "  <matplotlib.patches.Wedge at 0x1ec06c02f40>],\n",
       " [Text(-1.0718819481455477, -0.24712160820071072, 'Grand Theft Auto V'),\n",
       "  Text(0.2040653338102604, -1.0809057958660908, 'Call of Duty: Black Ops II'),\n",
       "  Text(1.0796399466964857, -0.21065988108135314, 'Call of Duty: Modern Warfare 3'),\n",
       "  Text(0.6418004519824172, 0.8933600505032476, 'Call of Duty: Black Ops'),\n",
       "  Text(-0.4307827601092997, 1.0121394239889157, 'Gran Turismo 5')],\n",
       " [Text(-0.5846628808066623, -0.13479360447311492, '29.4%'),\n",
       "  Text(0.11130836389650565, -0.5895849795633222, '19.3%'),\n",
       "  Text(0.5888945163799012, -0.11490538968073806, '18.6%'),\n",
       "  Text(0.3500729738085912, 0.4872873002744986, '17.7%'),\n",
       "  Text(-0.23497241460507254, 0.5520760494484993, '15.0%')])"
      ]
     },
     "execution_count": 17,
     "metadata": {},
     "output_type": "execute_result"
    },
    {
     "data": {
      "text/plain": [
       "(-1.1106327707357708,\n",
       " 1.1205439584354073,\n",
       " -1.1218439165151777,\n",
       " 1.1098174170348778)"
      ]
     },
     "execution_count": 17,
     "metadata": {},
     "output_type": "execute_result"
    },
    {
     "data": {
      "text/plain": [
       "Text(0.5, 1.0, 'Top 5 Games - PS3')"
      ]
     },
     "execution_count": 17,
     "metadata": {},
     "output_type": "execute_result"
    },
    {
     "data": {
      "text/plain": [
       "<AxesSubplot:>"
      ]
     },
     "execution_count": 17,
     "metadata": {},
     "output_type": "execute_result"
    },
    {
     "data": {
      "text/plain": [
       "([<matplotlib.patches.Wedge at 0x1ec06c31d90>,\n",
       "  <matplotlib.patches.Wedge at 0x1ec06c47490>,\n",
       "  <matplotlib.patches.Wedge at 0x1ec06c47cd0>,\n",
       "  <matplotlib.patches.Wedge at 0x1ec06c5d430>,\n",
       "  <matplotlib.patches.Wedge at 0x1ec06c5db50>],\n",
       " [Text(-0.938909938568984, -0.5731039410581531, 'Wii Sports'),\n",
       "  Text(0.7575908335793741, -0.7975312714097859, 'Mario Kart Wii'),\n",
       "  Text(1.073471303624304, 0.2401236354362847, 'Wii Sports Resort'),\n",
       "  Text(0.44777774521946473, 1.0047363290367142, 'Wii Play'),\n",
       "  Text(-0.47355147202293296, 0.9928489327913455, 'New Super Mario Bros. Wii')],\n",
       " [Text(-0.5121326937649002, -0.3126021496680835, '39.7%'),\n",
       "  Text(0.41323136377056763, -0.4350170571326104, '17.1%'),\n",
       "  Text(0.585529801976893, 0.13097652841979163, '15.8%'),\n",
       "  Text(0.24424240648334436, 0.5480379976563895, '13.9%'),\n",
       "  Text(-0.25830080292159974, 0.5415539633407338, '13.6%')])"
      ]
     },
     "execution_count": 17,
     "metadata": {},
     "output_type": "execute_result"
    },
    {
     "data": {
      "text/plain": [
       "(-1.1141306579224346,\n",
       " 1.1133179641289999,\n",
       " -1.1227289107563294,\n",
       " 1.1035916911145125)"
      ]
     },
     "execution_count": 17,
     "metadata": {},
     "output_type": "execute_result"
    },
    {
     "data": {
      "text/plain": [
       "Text(0.5, 1.0, 'Top 5 Games - Wii')"
      ]
     },
     "execution_count": 17,
     "metadata": {},
     "output_type": "execute_result"
    },
    {
     "data": {
      "text/plain": [
       "<AxesSubplot:>"
      ]
     },
     "execution_count": 17,
     "metadata": {},
     "output_type": "execute_result"
    },
    {
     "data": {
      "text/plain": [
       "([<matplotlib.patches.Wedge at 0x1ec06c97c40>,\n",
       "  <matplotlib.patches.Wedge at 0x1ec06ca4340>,\n",
       "  <matplotlib.patches.Wedge at 0x1ec06ca49a0>,\n",
       "  <matplotlib.patches.Wedge at 0x1ec06cb5100>,\n",
       "  <matplotlib.patches.Wedge at 0x1ec06cb5820>],\n",
       " [Text(-1.0881634298295535, -0.16093585673050745, 'Kinect Adventures!'),\n",
       "  Text(0.056441792520816894, -1.098551011131043, 'Grand Theft Auto V'),\n",
       "  Text(1.0446907631456734, -0.344414299061625, 'Call of Duty: Modern Warfare 3'),\n",
       "  Text(0.7518639399922457, 0.8029325100774889, 'Call of Duty: Black Ops'),\n",
       "  Text(-0.3700084157703853, 1.0359023951411106, 'Call of Duty: Black Ops II')],\n",
       " [Text(-0.5935436889979382, -0.08778319458027678, '26.9%'),\n",
       "  Text(0.030786432284081938, -0.5992096424351143, '20.1%'),\n",
       "  Text(0.5698313253521855, -0.18786234494270454, '18.2%'),\n",
       "  Text(0.410107603632134, 0.4379631873149939, '18.0%'),\n",
       "  Text(-0.20182277223839196, 0.5650376700769694, '16.9%')])"
      ]
     },
     "execution_count": 17,
     "metadata": {},
     "output_type": "execute_result"
    },
    {
     "data": {
      "text/plain": [
       "(-1.1112231695855848,\n",
       " 1.1174557455804222,\n",
       " -1.1108088157920422,\n",
       " 1.1168386917189213)"
      ]
     },
     "execution_count": 17,
     "metadata": {},
     "output_type": "execute_result"
    },
    {
     "data": {
      "text/plain": [
       "Text(0.5, 1.0, 'Top 5 Games - X360')"
      ]
     },
     "execution_count": 17,
     "metadata": {},
     "output_type": "execute_result"
    },
    {
     "data": {
      "image/png": "[encoded data removed]",
      "text/plain": [
       "<Figure size 1152x864 with 4 Axes>"
      ]
     },
     "metadata": {},
     "output_type": "display_data"
    }
   ],
   "source": [
    "#Filter data according to taking the top four platforms that had the highest sales as seen above\n",
    "selected_platforms = ['PS2', 'X360', 'Wii', 'PS3']\n",
    "filtered_2 = filtered_data[filtered_data['Platform'].isin(selected_platforms)]\n",
    "\n",
    "#Now we group the data by the platform and select the top five games sold globally for each platform\n",
    "grouped_2 = filtered_2.groupby('Platform')\n",
    "top_five_games = {}\n",
    "\n",
    "for platform, group in grouped_2:\n",
    "    sorted_group = group.sort_values(by='Global_Sales', ascending=False)\n",
    "    top_five_games[platform] = sorted_group.head(5)\n",
    "\n",
    "#Making the pie chart \n",
    "plt.figure(figsize=(16, 12))\n",
    "colours = ['#355070', '#6d597a', '#b56576', '#e56b6f', '#eaac8b']\n",
    "\n",
    "for platform, data in top_five_games.items():\n",
    "    labels = data['Name']\n",
    "    sizes = data['Global_Sales']\n",
    "\n",
    "    plt.subplot(2, 2, list(top_five_games.keys()).index(platform) + 1)\n",
    "    plt.pie(sizes, labels=labels, colors=colours, autopct='%1.1f%%', startangle=140)\n",
    "    plt.axis('equal')\n",
    "    plt.title(f'Top 5 Games - {platform}', fontweight='bold')\n",
    "\n",
    "plt.tight_layout()\n",
    "plt.show()\n"
   ]
  },
  {
   "cell_type": "markdown",
   "id": "1eaba19e",
   "metadata": {},
   "source": [
    "From the visualisation, PS3, XBOX 360, and PS2 had Grand Theft Auto in various series being the most popular and highest selling game. Call of duty was especially popular globally for XBOX 360 and PS3. Wii games had their own selection mostly with Wii sports and the Mario series of games. "
   ]
  },
  {
   "cell_type": "markdown",
   "id": "88b68fc0",
   "metadata": {},
   "source": [
    "### 3. Checking the proportions of sales for each region"
   ]
  },
  {
   "cell_type": "code",
   "execution_count": 18,
   "id": "87604e52",
   "metadata": {},
   "outputs": [
    {
     "name": "stdout",
     "output_type": "stream",
     "text": [
      "Proportion of Video Games Sold per Region (2000-2016):\n",
      "North America Sales Proportion: 50.96%\n",
      "Europe Sales Proportion: 30.41%\n",
      "Japan Sales Proportion: 7.83%\n",
      "Other Sales Proportion: 10.79%\n"
     ]
    }
   ],
   "source": [
    "#Getting the total number of sales from 2000 - 2016 for each region we have data available for\n",
    "na_sales_total = filtered_data['NA_Sales'].sum()\n",
    "eu_sales_total = filtered_data['EU_Sales'].sum()\n",
    "jp_sales_total = filtered_data['JP_Sales'].sum()\n",
    "other_sales_total = filtered_data['Other_Sales'].sum()\n",
    "\n",
    "total_sales = na_sales_total + eu_sales_total + jp_sales_total + other_sales_total\n",
    "\n",
    "#Proportions\n",
    "na_prop = round((na_sales_total/total_sales)*100, 2)\n",
    "eu_prop = round((eu_sales_total/total_sales)*100, 2)\n",
    "jp_prop = round((jp_sales_total/total_sales)*100, 2)\n",
    "other_prop = round((other_sales_total/total_sales)*100, 2)\n",
    "\n",
    "#Printing the output\n",
    "print(\"Proportion of Video Games Sold per Region (2000-2016):\")\n",
    "print(f\"North America Sales Proportion: {na_prop}%\")\n",
    "print(f\"Europe Sales Proportion: {eu_prop}%\")\n",
    "print(f\"Japan Sales Proportion: {jp_prop}%\")\n",
    "print(f\"Other Sales Proportion: {other_prop}%\")"
   ]
  },
  {
   "cell_type": "markdown",
   "id": "917611f3",
   "metadata": {},
   "source": [
    "### 4. Heatmap"
   ]
  },
  {
   "cell_type": "markdown",
   "id": "325570e5",
   "metadata": {},
   "source": [
    "I create a heatmap in order to analyse the relationship between the sales of different video games genres overtime; taking the global sales. "
   ]
  },
  {
   "cell_type": "code",
   "execution_count": 24,
   "id": "e3f8601d",
   "metadata": {},
   "outputs": [
    {
     "name": "stdout",
     "output_type": "stream",
     "text": [
      "<class 'pandas.core.frame.DataFrame'>\n",
      "Index: 6747 entries, 0 to 9768\n",
      "Data columns (total 16 columns):\n",
      " #   Column           Non-Null Count  Dtype  \n",
      "---  ------           --------------  -----  \n",
      " 0   Name             6747 non-null   object \n",
      " 1   Platform         6747 non-null   object \n",
      " 2   Year_of_Release  6747 non-null   int64  \n",
      " 3   Genre            6747 non-null   object \n",
      " 4   Publisher        6747 non-null   object \n",
      " 5   NA_Sales         6747 non-null   float64\n",
      " 6   EU_Sales         6747 non-null   float64\n",
      " 7   JP_Sales         6747 non-null   float64\n",
      " 8   Other_Sales      6747 non-null   float64\n",
      " 9   Global_Sales     6747 non-null   float64\n",
      " 10  Critic_Score     6747 non-null   float64\n",
      " 11  Critic_Count     6747 non-null   float64\n",
      " 12  User_Score       6747 non-null   float64\n",
      " 13  User_Count       6747 non-null   float64\n",
      " 14  Developer        6747 non-null   object \n",
      " 15  Rating           6747 non-null   object \n",
      "dtypes: float64(9), int64(1), object(6)\n",
      "memory usage: 896.1+ KB\n"
     ]
    }
   ],
   "source": [
    "filtered_data.info()"
   ]
  },
  {
   "cell_type": "code",
   "execution_count": 25,
   "id": "1dbf9cf0",
   "metadata": {},
   "outputs": [],
   "source": [
    "#Firstly we create a pivot table\n",
    "pivot_table = filtered_data.pivot_table(index='Genre', columns='Year_of_Release', values='Global_Sales', aggfunc='sum')"
   ]
  },
  {
   "cell_type": "code",
   "execution_count": 31,
   "id": "b72f96cf",
   "metadata": {},
   "outputs": [
    {
     "data": {
      "text/plain": [
       "<Figure size 864x576 with 0 Axes>"
      ]
     },
     "execution_count": 31,
     "metadata": {},
     "output_type": "execute_result"
    },
    {
     "data": {
      "text/plain": [
       "<AxesSubplot:xlabel='Year_of_Release', ylabel='Genre'>"
      ]
     },
     "execution_count": 31,
     "metadata": {},
     "output_type": "execute_result"
    },
    {
     "data": {
      "text/plain": [
       "Text(0.5, 51.0, 'Year')"
      ]
     },
     "execution_count": 31,
     "metadata": {},
     "output_type": "execute_result"
    },
    {
     "data": {
      "text/plain": [
       "Text(87.0, 0.5, 'Genre')"
      ]
     },
     "execution_count": 31,
     "metadata": {},
     "output_type": "execute_result"
    },
    {
     "data": {
      "text/plain": [
       "Text(0.5, 1.0, 'Global Sales Over Time by Genre')"
      ]
     },
     "execution_count": 31,
     "metadata": {},
     "output_type": "execute_result"
    },
    {
     "data": {
      "image/png": "[encoded data removed]",
      "text/plain": [
       "<Figure size 864x576 with 2 Axes>"
      ]
     },
     "metadata": {
      "needs_background": "light"
     },
     "output_type": "display_data"
    }
   ],
   "source": [
    "#Plotting the heatmap\n",
    "plt.figure(figsize=(12, 8))\n",
    "\n",
    "sns.heatmap(pivot_table, cmap='coolwarm', annot=True, fmt='.1f', linewidths=0.5)\n",
    "\n",
    "plt.xlabel('Year', fontweight='bold')\n",
    "plt.ylabel('Genre', fontweight='bold')\n",
    "plt.title('Global Sales Over Time by Genre', fontweight='bold')\n",
    "\n",
    "plt.show()"
   ]
  },
  {
   "cell_type": "markdown",
   "id": "fa8b8f7a",
   "metadata": {},
   "source": [
    "From the heatmap, it is evident that during the era of 2006 - 2008 the Sports genre was on a rise. This was due to the release of Wii with their iconic and popular release of Wii sports. \n",
    "During 2008 - 2013, Shooting games were popular due to the Call of Duty franchise and its increasing popularity on a variety of gaming consoles. Additionally, the Action genre is showing to be the most popular genre out of all with its consistency in sales of video games overtime. During 2006 - 2013 the Action genre shows increasing popularity due to the Grand Theft Auto series. Its understanding of gamers, pop culture references, mission selection, and creating hilarious scenarios in the video game gave it the ultimate gamers experience. "
   ]
  },
  {
   "cell_type": "markdown",
   "id": "89f6802e",
   "metadata": {},
   "source": [
    "### Final Remarks "
   ]
  },
  {
   "cell_type": "markdown",
   "id": "7bb11552",
   "metadata": {},
   "source": [
    "From the above visualisations, we can derive some ket insights into the popularity of different video games and their growth and decline overtime in different regions and in aggregate worldwide. \n",
    "From the above analysis, I have created an A4 poster of the different visualisations created above on Canva to better represent the analysis and make it easier to understand for the general audience. The poster created has short descriptions to take the viewer through a story for deeper understanding while going through the poster and retrieving key insights. "
   ]
  }
 ],
 "metadata": {
  "kernelspec": {
   "display_name": "Python 3",
   "language": "python",
   "name": "python3"
  },
  "language_info": {
   "codemirror_mode": {
    "name": "ipython",
    "version": 3
   },
   "file_extension": ".py",
   "mimetype": "text/x-python",
   "name": "python",
   "nbconvert_exporter": "python",
   "pygments_lexer": "ipython3",
   "version": "3.9.12"
  }
 },
 "nbformat": 4,
 "nbformat_minor": 5
}
